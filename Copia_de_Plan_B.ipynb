{
  "nbformat": 4,
  "nbformat_minor": 0,
  "metadata": {
    "colab": {
      "name": "Copia de Plan B.ipynb",
      "version": "0.3.2",
      "provenance": [],
      "include_colab_link": true
    },
    "kernelspec": {
      "name": "python3",
      "display_name": "Python 3"
    }
  },
  "cells": [
    {
      "cell_type": "markdown",
      "metadata": {
        "id": "view-in-github",
        "colab_type": "text"
      },
      "source": [
        "<a href=\"https://colab.research.google.com/github/pablocanas/Plan-B/blob/master/Copia_de_Plan_B.ipynb\" target=\"_parent\"><img src=\"https://colab.research.google.com/assets/colab-badge.svg\" alt=\"Open In Colab\"/></a>"
      ]
    },
    {
      "cell_type": "code",
      "metadata": {
        "id": "9bZ9xS5kf7Jq",
        "colab_type": "code",
        "outputId": "a4bf78d6-d68c-401d-9c4b-461ea3d33250",
        "colab": {
          "base_uri": "https://localhost:8080/",
          "height": 373
        }
      },
      "source": [
        "import numpy as np\n",
        "import matplotlib.pyplot as plt\n",
        "import seaborn as sns\n",
        "import sklearn as sk\n",
        "import pandas as pd\n",
        "from math import *\n",
        "from astropy.constants import G\n",
        "!pip install astroquery"
      ],
      "execution_count": 1,
      "outputs": [
        {
          "output_type": "stream",
          "text": [
            "Requirement already satisfied: astroquery in /usr/local/lib/python3.6/dist-packages (0.3.9)\n",
            "Requirement already satisfied: beautifulsoup4>=4.3.2 in /usr/local/lib/python3.6/dist-packages (from astroquery) (4.6.3)\n",
            "Requirement already satisfied: html5lib>=0.999 in /usr/local/lib/python3.6/dist-packages (from astroquery) (1.0.1)\n",
            "Requirement already satisfied: keyring>=4.0 in /usr/local/lib/python3.6/dist-packages (from astroquery) (19.0.2)\n",
            "Requirement already satisfied: astropy>=1.0 in /usr/local/lib/python3.6/dist-packages (from astroquery) (3.0.5)\n",
            "Requirement already satisfied: requests>=2.4.3 in /usr/local/lib/python3.6/dist-packages (from astroquery) (2.21.0)\n",
            "Requirement already satisfied: six>=1.9 in /usr/local/lib/python3.6/dist-packages (from html5lib>=0.999->astroquery) (1.12.0)\n",
            "Requirement already satisfied: webencodings in /usr/local/lib/python3.6/dist-packages (from html5lib>=0.999->astroquery) (0.5.1)\n",
            "Requirement already satisfied: secretstorage; sys_platform == \"linux\" in /usr/local/lib/python3.6/dist-packages (from keyring>=4.0->astroquery) (3.1.1)\n",
            "Requirement already satisfied: entrypoints in /usr/local/lib/python3.6/dist-packages (from keyring>=4.0->astroquery) (0.3)\n",
            "Requirement already satisfied: numpy>=1.10.0 in /usr/local/lib/python3.6/dist-packages (from astropy>=1.0->astroquery) (1.16.4)\n",
            "Requirement already satisfied: idna<2.9,>=2.5 in /usr/local/lib/python3.6/dist-packages (from requests>=2.4.3->astroquery) (2.8)\n",
            "Requirement already satisfied: certifi>=2017.4.17 in /usr/local/lib/python3.6/dist-packages (from requests>=2.4.3->astroquery) (2019.6.16)\n",
            "Requirement already satisfied: chardet<3.1.0,>=3.0.2 in /usr/local/lib/python3.6/dist-packages (from requests>=2.4.3->astroquery) (3.0.4)\n",
            "Requirement already satisfied: urllib3<1.25,>=1.21.1 in /usr/local/lib/python3.6/dist-packages (from requests>=2.4.3->astroquery) (1.24.3)\n",
            "Requirement already satisfied: jeepney in /usr/local/lib/python3.6/dist-packages (from secretstorage; sys_platform == \"linux\"->keyring>=4.0->astroquery) (0.4)\n",
            "Requirement already satisfied: cryptography in /usr/local/lib/python3.6/dist-packages (from secretstorage; sys_platform == \"linux\"->keyring>=4.0->astroquery) (2.7)\n",
            "Requirement already satisfied: asn1crypto>=0.21.0 in /usr/local/lib/python3.6/dist-packages (from cryptography->secretstorage; sys_platform == \"linux\"->keyring>=4.0->astroquery) (0.24.0)\n",
            "Requirement already satisfied: cffi!=1.11.3,>=1.8 in /usr/local/lib/python3.6/dist-packages (from cryptography->secretstorage; sys_platform == \"linux\"->keyring>=4.0->astroquery) (1.12.3)\n",
            "Requirement already satisfied: pycparser in /usr/local/lib/python3.6/dist-packages (from cffi!=1.11.3,>=1.8->cryptography->secretstorage; sys_platform == \"linux\"->keyring>=4.0->astroquery) (2.19)\n"
          ],
          "name": "stdout"
        }
      ]
    },
    {
      "cell_type": "code",
      "metadata": {
        "id": "SkN63Igdf_6x",
        "colab_type": "code",
        "outputId": "4d8153ef-796a-4d17-bfca-914b4f110402",
        "colab": {
          "base_uri": "https://localhost:8080/",
          "height": 1000
        }
      },
      "source": [
        "planetas=pd.read_csv(\"https://raw.githubusercontent.com/astrodatos/proyecto_ps2/master/compositepars_2019.07.07_14.34.43.csv\", comment = '#')\n",
        "print(planetas.info())"
      ],
      "execution_count": 2,
      "outputs": [
        {
          "output_type": "stream",
          "text": [
            "<class 'pandas.core.frame.DataFrame'>\n",
            "RangeIndex: 4009 entries, 0 to 4008\n",
            "Data columns (total 100 columns):\n",
            "fpl_hostname         4009 non-null object\n",
            "fpl_letter           4009 non-null object\n",
            "fpl_name             4009 non-null object\n",
            "fpl_controvflag      4009 non-null int64\n",
            "fpl_disc             4009 non-null int64\n",
            "fpl_orbper           3906 non-null float64\n",
            "fpl_orbpererr1       3771 non-null float64\n",
            "fpl_orbpererr2       3771 non-null float64\n",
            "fpl_orbperlim        3935 non-null float64\n",
            "fpl_smax             2508 non-null float64\n",
            "fpl_smaxerr1         1682 non-null float64\n",
            "fpl_smaxerr2         1681 non-null float64\n",
            "fpl_smaxlim          2548 non-null float64\n",
            "fpl_eccen            1510 non-null float64\n",
            "fpl_eccenerr1        1061 non-null float64\n",
            "fpl_eccenerr2        1061 non-null float64\n",
            "fpl_eccenlim         1710 non-null float64\n",
            "fpl_bmasse           3985 non-null float64\n",
            "fpl_bmasseerr1       1552 non-null float64\n",
            "fpl_bmasseerr2       1552 non-null float64\n",
            "fpl_bmasselim        3987 non-null float64\n",
            "fpl_bmassprov        3985 non-null object\n",
            "fpl_bmassreflink     3985 non-null object\n",
            "fpl_rade             3992 non-null float64\n",
            "fpl_radeerr1         3094 non-null float64\n",
            "fpl_radeerr2         3094 non-null float64\n",
            "fpl_radelim          3994 non-null float64\n",
            "fpl_dens             3908 non-null float64\n",
            "fpl_denserr1         624 non-null float64\n",
            "fpl_denserr2         624 non-null float64\n",
            "fpl_denslim          3919 non-null float64\n",
            "fpl_densreflink      3908 non-null object\n",
            "fpl_eqt              861 non-null float64\n",
            "fpl_eqterr1          747 non-null float64\n",
            "fpl_eqterr2          747 non-null float64\n",
            "fpl_eqtlim           1395 non-null float64\n",
            "fpl_eqtreflink       861 non-null object\n",
            "fpl_insol            2408 non-null float64\n",
            "fpl_insolerr1        2391 non-null float64\n",
            "fpl_insolerr2        2391 non-null float64\n",
            "fpl_insollim         3191 non-null float64\n",
            "fpl_insolreflink     2408 non-null object\n",
            "ra_str               4006 non-null object\n",
            "ra                   4006 non-null float64\n",
            "dec_str              4006 non-null object\n",
            "dec                  4006 non-null float64\n",
            "fst_posreflink       4006 non-null object\n",
            "fst_dist             4000 non-null float64\n",
            "fst_disterr1         3922 non-null float64\n",
            "fst_disterr2         3922 non-null float64\n",
            "fst_distlim          4000 non-null float64\n",
            "fst_distreflink      4000 non-null object\n",
            "fst_optmag           3922 non-null float64\n",
            "fst_optmagerr        912 non-null float64\n",
            "fst_optmaglim        3922 non-null float64\n",
            "fst_optmagband       3922 non-null object\n",
            "fst_optmagreflink    3922 non-null object\n",
            "fst_nirmag           3903 non-null float64\n",
            "fst_nirmagerr        3881 non-null float64\n",
            "fst_nirmaglim        3903 non-null float64\n",
            "fst_nirmagband       3903 non-null object\n",
            "fst_nirmagreflink    3903 non-null object\n",
            "fst_spt              1334 non-null object\n",
            "fst_sptreflink       1334 non-null object\n",
            "fst_teff             3919 non-null float64\n",
            "fst_tefferr1         3755 non-null float64\n",
            "fst_tefferr2         3724 non-null float64\n",
            "fst_tefflim          3954 non-null float64\n",
            "fst_teffreflink      3919 non-null object\n",
            "fst_logg             3764 non-null float64\n",
            "fst_loggerr1         3620 non-null float64\n",
            "fst_loggerr2         3621 non-null float64\n",
            "fst_logglim          3873 non-null float64\n",
            "fst_loggreflink      3764 non-null object\n",
            "fst_lum              3901 non-null float64\n",
            "fst_lumerr1          3666 non-null float64\n",
            "fst_lumerr2          3652 non-null float64\n",
            "fst_lumlim           3940 non-null float64\n",
            "fst_lumreflink       3901 non-null object\n",
            "fst_mass             3995 non-null float64\n",
            "fst_masserr1         3772 non-null float64\n",
            "fst_masserr2         3742 non-null float64\n",
            "fst_masslim          3995 non-null float64\n",
            "fst_massreflink      3995 non-null object\n",
            "fst_rad              3892 non-null float64\n",
            "fst_raderr1          3760 non-null float64\n",
            "fst_raderr2          3731 non-null float64\n",
            "fst_radlim           3930 non-null float64\n",
            "fst_radreflink       3892 non-null object\n",
            "fst_met              3783 non-null float64\n",
            "fst_meterr1          3372 non-null float64\n",
            "fst_meterr2          3372 non-null float64\n",
            "fst_metlim           3882 non-null float64\n",
            "fst_metratio         3760 non-null object\n",
            "fst_metreflink       3783 non-null object\n",
            "fst_age              3375 non-null float64\n",
            "fst_ageerr1          3176 non-null float64\n",
            "fst_ageerr2          3176 non-null float64\n",
            "fst_agelim           3724 non-null float64\n",
            "fst_agereflink       3375 non-null object\n",
            "dtypes: float64(72), int64(2), object(26)\n",
            "memory usage: 3.1+ MB\n",
            "None\n"
          ],
          "name": "stdout"
        }
      ]
    },
    {
      "cell_type": "markdown",
      "metadata": {
        "id": "VMlDSs4ZXJ9Q",
        "colab_type": "text"
      },
      "source": [
        "Definiendo la habitabilidad"
      ]
    },
    {
      "cell_type": "code",
      "metadata": {
        "id": "brA_CpvVhetW",
        "colab_type": "code",
        "colab": {}
      },
      "source": [
        ""
      ],
      "execution_count": 0,
      "outputs": []
    },
    {
      "cell_type": "code",
      "metadata": {
        "id": "eEB-Qtq9q_eA",
        "colab_type": "code",
        "outputId": "98c0e2d1-d53f-4b8f-db03-3a71d8cf0378",
        "colab": {
          "base_uri": "https://localhost:8080/",
          "height": 1000
        }
      },
      "source": [
        "planetas = pd.DataFrame(planetas)\n",
        "Ts = 5700 #K\n",
        "ai = 2.7619 * 10**(-5)\n",
        "bi = 3.8095 * 10**(-9)\n",
        "ao = 1.3786 * 10**(-4)\n",
        "bo = 1.4286 * 10**(-9)\n",
        "ris = 0.72\n",
        "ros = 1.77\n",
        "planetas = planetas.filter(['fpl_orbper','fpl_bmasse','fst_mass','fst_teff','fst_lum'], axis=1)\n",
        "planetas = planetas.dropna()\n",
        "Teff = planetas['fst_teff']\n",
        "lum = 10**(planetas['fst_lum'])\n",
        "T = planetas['fpl_orbper']\n",
        "m = planetas['fpl_bmasse']\n",
        "M = planetas['fst_mass']\n",
        "suma = M + m\n",
        "r = np.array(((G*suma*(T)**2)/(4*(pi)**2))**(1/3))\n",
        "resta = Teff - Ts\n",
        "\n",
        "#Distancia del borde más lejano de la zona habitable a la estrella, en UA\n",
        "Ri = (ris - ai*resta - bi*(resta)**2)/np.sqrt(lum)\n",
        "#Distancia del borde más cercano de la zona habitable a la estrella, en UA\n",
        "Ro = (ros - ao*resta - bo*(resta)**2)/np.sqrt(lum)\n",
        "#índice de habitabilidad \n",
        "resta1 = Ro - Ri\n",
        "resta2 = 2*r - Ro - Ri\n",
        "HDZ = resta2/resta1\n",
        "\n",
        "\n",
        "planetas['HDZ'] = HDZ\n",
        "mask_1 = -1<=planetas['HDZ'] \n",
        "mask_2 = planetas['HDZ'] <= 1\n",
        "booleanos = np.logical_and(mask_1, mask_2)\n",
        "booleanos = booleanos.astype(int)\n",
        "planetas['Habitabilidad'] = booleanos\n",
        "print(planetas)\n",
        "\n",
        "habitables = planetas[(-1<=(planetas['HDZ']))|((planetas['HDZ'])<=1)]\n",
        "\n"
      ],
      "execution_count": 3,
      "outputs": [
        {
          "output_type": "stream",
          "text": [
            "        fpl_orbper  fpl_bmasse  fst_mass  ...  fst_lum       HDZ  Habitabilidad\n",
            "0       326.030000   6165.6000      2.70  ...    2.243  0.081433              1\n",
            "1       516.219970   4684.8142      2.78  ...    2.430  1.218163              0\n",
            "2       185.840000   1525.5000      2.20  ...    1.763 -1.698284              0\n",
            "3      1773.400020   1481.0878      0.90  ...   -0.151 -2.031467              0\n",
            "4       798.500000    565.7374      1.08  ...    0.100 -2.193690              0\n",
            "5       993.300000   3273.5000      2.30  ...    1.602 -0.335040              1\n",
            "7        30.350600    289.2253      0.99  ...    1.774 -2.193579              0\n",
            "8       452.800000    632.4600      1.54  ...    1.164 -1.903594              0\n",
            "9       883.000000    273.3200      1.54  ...    1.164 -1.828770              0\n",
            "14      416.000000    603.8770      0.48  ...    0.168 -2.498228              0\n",
            "15     7336.500000   6657.4800      0.08  ...   -3.480 -2.038969              0\n",
            "17      335.100010   4392.4106      1.93  ...    0.381 -2.131232              0\n",
            "18      269.300000   2256.5000      1.23  ...    2.062 -1.082408              0\n",
            "19      479.100000   1233.1300      0.98  ...    2.155 -0.701225              1\n",
            "20     1078.000000    804.0800      1.03  ...    0.216 -2.098526              0\n",
            "21     2391.000000    171.6210      1.03  ...    0.216 -2.093300              0\n",
            "22    14002.000000    521.2200      1.03  ...    0.216 -0.999808              1\n",
            "23    14965.000000    635.6600      1.75  ...    0.850  1.213543              0\n",
            "24        4.230785    146.2018      1.12  ...    0.147 -2.376171              0\n",
            "25       14.651520    263.9785      0.91  ...   -0.235 -2.318893              0\n",
            "26       44.417500     54.4738      0.91  ...   -0.235 -2.317356              0\n",
            "27     4825.000000   1232.4930      0.91  ...   -0.235 -1.821997              0\n",
            "28        0.736539      8.0800      0.91  ...   -0.235 -2.324933              0\n",
            "29      262.000000     44.8120      0.91  ...   -0.235 -2.301152              0\n",
            "30      934.300000    638.8383      1.44  ...    1.156 -1.647317              0\n",
            "31        4.215000      5.1000      0.94  ...   -0.095 -2.359223              0\n",
            "32       38.021000     18.2000      0.94  ...   -0.095 -2.354104              0\n",
            "33      123.010000     22.9000      0.94  ...   -0.095 -2.345883              0\n",
            "34      796.000000    781.8618      1.52  ...    1.053 -1.737634              0\n",
            "35      116.688000   2380.4500      1.09  ...    0.487 -2.228586              0\n",
            "...            ...         ...       ...  ...      ...       ...            ...\n",
            "3978    522.300000   1938.7000      1.40  ...    2.730  1.406043              0\n",
            "3979    417.900000   2129.4610      1.70  ...    2.235 -0.375297              1\n",
            "3980   2502.000000    492.6365      0.83  ...   -0.419 -2.127230              0\n",
            "3981    594.900000   2415.4060      2.70  ...    1.987 -0.342632              1\n",
            "3982    428.500000   2790.4300      1.23  ...    2.510  0.599863              1\n",
            "3983    903.300000    587.9600      1.40  ...    1.073 -1.728955              0\n",
            "3984    415.200000    324.1866      1.47  ...    1.850 -1.622509              0\n",
            "3985    964.600000   1455.6614      1.47  ...    1.850 -0.359142              1\n",
            "3986    511.098000   2803.1000      1.05  ...    1.820 -0.787242              1\n",
            "3988   1285.000000    689.6911      1.50  ...    1.105 -1.517941              0\n",
            "3989    357.800000    762.8000      1.50  ...    1.797 -1.528930              0\n",
            "3990    530.320000   7627.9200      3.04  ...    2.090  0.698708              1\n",
            "3991   3186.000000   8581.4100      3.04  ...    2.090  8.007972              0\n",
            "3992    277.020000    540.3000      2.17  ...    1.850 -1.684241              0\n",
            "3993    187.830000    476.7450      2.13  ...    1.709 -1.906081              0\n",
            "3994   1630.000000   1303.1030      3.09  ...    2.140  1.519886              0\n",
            "3995      6.267900      4.8200      1.09  ...    0.160 -2.400387              0\n",
            "3996   3117.000000    486.2799      1.19  ...    0.326 -1.832218              0\n",
            "3997     39.845800    332.1000      0.89  ...    0.232 -2.340971              0\n",
            "3998    102.540000     25.0000      0.89  ...    0.232 -2.345692              0\n",
            "3999      3.312457   1891.0000      1.34  ...    0.535 -2.422463              0\n",
            "4000    162.870000      3.9300      0.78  ...   -0.305 -2.328021              0\n",
            "4001    636.130000      3.9300      0.78  ...   -0.305 -2.316672              0\n",
            "4002     20.000000      1.7500      0.78  ...   -0.305 -2.334149              0\n",
            "4003     49.410000      1.8300      0.78  ...   -0.305 -2.332846              0\n",
            "4004    305.500000   6547.0000      2.30  ...    2.519  0.815107              1\n",
            "4005      4.617033    218.5310      1.30  ...    0.561 -2.407725              0\n",
            "4006    241.258000    629.5950      1.30  ...    0.561 -2.263873              0\n",
            "4007   1276.460000   1313.2200      1.30  ...    0.561 -1.827901              0\n",
            "4008    136.750000    890.0000      2.20  ...    1.839 -1.848394              0\n",
            "\n",
            "[3849 rows x 7 columns]\n"
          ],
          "name": "stdout"
        }
      ]
    },
    {
      "cell_type": "markdown",
      "metadata": {
        "id": "UxAMvY-nTC9K",
        "colab_type": "text"
      },
      "source": [
        "Gráficos"
      ]
    },
    {
      "cell_type": "code",
      "metadata": {
        "id": "wEuTOJIU5pRV",
        "colab_type": "code",
        "outputId": "1db95b95-0631-44f8-ed71-1671efda1e51",
        "colab": {
          "base_uri": "https://localhost:8080/",
          "height": 638
        }
      },
      "source": [
        "#Hisotgrama de índice de habitabilidad \n",
        "plt.figure(figsize = (10,10))\n",
        "plt.hist(planetas['HDZ'])\n",
        "plt.xlabel('índice de habitabilidad')\n",
        "plt.ylabel('Cantidad de planetas')\n",
        "plt.title('Planetas y su habitabilidad')"
      ],
      "execution_count": 0,
      "outputs": [
        {
          "output_type": "execute_result",
          "data": {
            "text/plain": [
              "Text(0.5, 1.0, 'Planetas y su habitabilidad')"
            ]
          },
          "metadata": {
            "tags": []
          },
          "execution_count": 59
        },
        {
          "output_type": "display_data",
          "data": {
            "image/png": "[encoded data removed]",
            "text/plain": [
              "<Figure size 720x720 with 1 Axes>"
            ]
          },
          "metadata": {
            "tags": []
          }
        }
      ]
    },
    {
      "cell_type": "code",
      "metadata": {
        "id": "SNSFofoYTFxE",
        "colab_type": "code",
        "outputId": "007420e1-1a8c-4c95-d8a9-1ad1343a46a3",
        "colab": {
          "base_uri": "https://localhost:8080/",
          "height": 638
        }
      },
      "source": [
        "#Histograma de los planetas habitables\n",
        "plt.figure(figsize = (10,10))\n",
        "plt.hist(booleanos)\n",
        "plt.xlabel('índice de habitabilidad')\n",
        "plt.ylabel('Cantidad de planetas')\n",
        "plt.title('Planetas habitables')"
      ],
      "execution_count": 0,
      "outputs": [
        {
          "output_type": "execute_result",
          "data": {
            "text/plain": [
              "Text(0.5, 1.0, 'Planetas habitables')"
            ]
          },
          "metadata": {
            "tags": []
          },
          "execution_count": 68
        },
        {
          "output_type": "display_data",
          "data": {
            "image/png": "[encoded data removed]",
            "text/plain": [
              "<Figure size 720x720 with 1 Axes>"
            ]
          },
          "metadata": {
            "tags": []
          }
        }
      ]
    },
    {
      "cell_type": "markdown",
      "metadata": {
        "id": "n6PUFjOWTQJd",
        "colab_type": "text"
      },
      "source": [
        "Machine Learning"
      ]
    },
    {
      "cell_type": "code",
      "metadata": {
        "id": "6kSc1q_GTR3z",
        "colab_type": "code",
        "colab": {}
      },
      "source": [
        "X = np.array(data_df.iloc[:,:-1])\n",
        "Y = booleanos\n",
        "from sklearn.model_selection import train_test_split"
      ],
      "execution_count": 0,
      "outputs": []
    }
  ]
}